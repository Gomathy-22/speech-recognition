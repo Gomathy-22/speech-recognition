{
 "cells": [
  {
   "cell_type": "code",
   "execution_count": 5,
   "id": "5ffc9107",
   "metadata": {},
   "outputs": [
    {
     "name": "stdout",
     "output_type": "stream",
     "text": [
      "Requirement already satisfied: SpeechRecognition in c:\\users\\gomathy\\appdata\\local\\programs\\python\\python39\\lib\\site-packages (3.8.1)\n"
     ]
    }
   ],
   "source": [
    "!pip install SpeechRecognition"
   ]
  },
  {
   "cell_type": "code",
   "execution_count": 6,
   "id": "850a1e60",
   "metadata": {},
   "outputs": [],
   "source": [
    "import speech_recognition as sr"
   ]
  },
  {
   "cell_type": "code",
   "execution_count": 7,
   "id": "fa88f001",
   "metadata": {},
   "outputs": [],
   "source": [
    "r = sr.Recognizer()"
   ]
  },
  {
   "cell_type": "code",
   "execution_count": 8,
   "id": "6bb6a9c8",
   "metadata": {},
   "outputs": [],
   "source": [
    "import io\n",
    "import os\n",
    "import sys\n",
    "import setuptools\n",
    "import tokenize\n",
    "\n",
    "import speech_recognition as sr"
   ]
  },
  {
   "cell_type": "code",
   "execution_count": 9,
   "id": "c0885639",
   "metadata": {},
   "outputs": [],
   "source": [
    "r = sr.Recognizer()"
   ]
  },
  {
   "cell_type": "code",
   "execution_count": 10,
   "id": "7b2b16bd",
   "metadata": {},
   "outputs": [
    {
     "name": "stdout",
     "output_type": "stream",
     "text": [
      "Talk\n",
      "Time over, thanks\n",
      "Text: hello how are you\n"
     ]
    }
   ],
   "source": [
    "with sr.Microphone() as source:\n",
    "    print(\"Talk\")\n",
    "    audio_text = r.listen(source)\n",
    "    print(\"Time over, thanks\")\n",
    "    try:\n",
    "        print(\"Text: \"+r.recognize_google(audio_text))\n",
    "    except:\n",
    "         print(\"Sorry, I did not get that\")"
   ]
  },
  {
   "cell_type": "code",
   "execution_count": 11,
   "id": "5649545e",
   "metadata": {},
   "outputs": [],
   "source": [
    "converted_text = r.recognize_google(audio_text)"
   ]
  },
  {
   "cell_type": "code",
   "execution_count": 13,
   "id": "e2c280d2",
   "metadata": {},
   "outputs": [
    {
     "name": "stdout",
     "output_type": "stream",
     "text": [
      "Requirement already satisfied: gTTs in c:\\users\\gomathy\\appdata\\local\\programs\\python\\python39\\lib\\site-packages (2.2.3)\n",
      "Requirement already satisfied: six in c:\\users\\gomathy\\appdata\\local\\programs\\python\\python39\\lib\\site-packages (from gTTs) (1.16.0)\n",
      "Requirement already satisfied: requests in c:\\users\\gomathy\\appdata\\local\\programs\\python\\python39\\lib\\site-packages (from gTTs) (2.25.1)\n",
      "Requirement already satisfied: click in c:\\users\\gomathy\\appdata\\local\\programs\\python\\python39\\lib\\site-packages (from gTTs) (7.1.2)\n",
      "Requirement already satisfied: chardet<5,>=3.0.2 in c:\\users\\gomathy\\appdata\\local\\programs\\python\\python39\\lib\\site-packages (from requests->gTTs) (3.0.4)\n",
      "Requirement already satisfied: idna<3,>=2.5 in c:\\users\\gomathy\\appdata\\local\\programs\\python\\python39\\lib\\site-packages (from requests->gTTs) (2.10)\n",
      "Requirement already satisfied: urllib3<1.27,>=1.21.1 in c:\\users\\gomathy\\appdata\\local\\programs\\python\\python39\\lib\\site-packages (from requests->gTTs) (1.26.4)\n",
      "Requirement already satisfied: certifi>=2017.4.17 in c:\\users\\gomathy\\appdata\\local\\programs\\python\\python39\\lib\\site-packages (from requests->gTTs) (2020.12.5)\n",
      "Note: you may need to restart the kernel to use updated packages.\n"
     ]
    }
   ],
   "source": [
    "pip install gTTs"
   ]
  },
  {
   "cell_type": "code",
   "execution_count": 14,
   "id": "2380aa0e",
   "metadata": {},
   "outputs": [
    {
     "data": {
      "text/html": [
       "\n",
       "                <audio  controls=\"controls\" autoplay=\"autoplay\">\n",
       "                    <source src=\"data:audio/wav;base64,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\" type=\"audio/wav\" />\n",
       "                    Your browser does not support the audio element.\n",
       "                </audio>\n",
       "              "
      ],
      "text/plain": [
       "<IPython.lib.display.Audio object>"
      ]
     },
     "execution_count": 14,
     "metadata": {},
     "output_type": "execute_result"
    }
   ],
   "source": [
    "from gtts import gTTS\n",
    "from IPython.display import Audio\n",
    "tts = gTTS('Hello, i am gomathy, தயவுசெய்து ஆங்கிலத்தில் பேசவும்')\n",
    "tts.save('1.wav')\n",
    "sound_file='1.wav'\n",
    "Audio(sound_file,autoplay=\"True\")"
   ]
  },
  {
   "cell_type": "code",
   "execution_count": 15,
   "id": "b3fa7d5a",
   "metadata": {},
   "outputs": [
    {
     "name": "stdout",
     "output_type": "stream",
     "text": [
      "Requirement already satisfied: speechrecognition in c:\\users\\gomathy\\appdata\\local\\programs\\python\\python39\\lib\\site-packages (3.8.1)\n",
      "Requirement already satisfied: pyttsx3 in c:\\users\\gomathy\\appdata\\local\\programs\\python\\python39\\lib\\site-packages (2.90)\n",
      "Requirement already satisfied: googletrans in c:\\users\\gomathy\\appdata\\local\\programs\\python\\python39\\lib\\site-packages (4.0.0rc1)\n",
      "Requirement already satisfied: comtypes in c:\\users\\gomathy\\appdata\\local\\programs\\python\\python39\\lib\\site-packages (from pyttsx3) (1.1.10)\n",
      "Requirement already satisfied: pypiwin32 in c:\\users\\gomathy\\appdata\\local\\programs\\python\\python39\\lib\\site-packages (from pyttsx3) (223)\n",
      "Requirement already satisfied: pywin32 in c:\\users\\gomathy\\appdata\\local\\programs\\python\\python39\\lib\\site-packages (from pyttsx3) (301)\n",
      "Requirement already satisfied: httpx==0.13.3 in c:\\users\\gomathy\\appdata\\local\\programs\\python\\python39\\lib\\site-packages (from googletrans) (0.13.3)\n",
      "Requirement already satisfied: chardet==3.* in c:\\users\\gomathy\\appdata\\local\\programs\\python\\python39\\lib\\site-packages (from httpx==0.13.3->googletrans) (3.0.4)\n",
      "Requirement already satisfied: certifi in c:\\users\\gomathy\\appdata\\local\\programs\\python\\python39\\lib\\site-packages (from httpx==0.13.3->googletrans) (2020.12.5)\n",
      "Requirement already satisfied: sniffio in c:\\users\\gomathy\\appdata\\local\\programs\\python\\python39\\lib\\site-packages (from httpx==0.13.3->googletrans) (1.2.0)\n",
      "Requirement already satisfied: idna==2.* in c:\\users\\gomathy\\appdata\\local\\programs\\python\\python39\\lib\\site-packages (from httpx==0.13.3->googletrans) (2.10)\n",
      "Requirement already satisfied: rfc3986<2,>=1.3 in c:\\users\\gomathy\\appdata\\local\\programs\\python\\python39\\lib\\site-packages (from httpx==0.13.3->googletrans) (1.5.0)\n",
      "Requirement already satisfied: httpcore==0.9.* in c:\\users\\gomathy\\appdata\\local\\programs\\python\\python39\\lib\\site-packages (from httpx==0.13.3->googletrans) (0.9.1)\n",
      "Requirement already satisfied: hstspreload in c:\\users\\gomathy\\appdata\\local\\programs\\python\\python39\\lib\\site-packages (from httpx==0.13.3->googletrans) (2021.9.1)\n",
      "Requirement already satisfied: h11<0.10,>=0.8 in c:\\users\\gomathy\\appdata\\local\\programs\\python\\python39\\lib\\site-packages (from httpcore==0.9.*->httpx==0.13.3->googletrans) (0.9.0)\n",
      "Requirement already satisfied: h2==3.* in c:\\users\\gomathy\\appdata\\local\\programs\\python\\python39\\lib\\site-packages (from httpcore==0.9.*->httpx==0.13.3->googletrans) (3.2.0)\n",
      "Requirement already satisfied: hyperframe<6,>=5.2.0 in c:\\users\\gomathy\\appdata\\local\\programs\\python\\python39\\lib\\site-packages (from h2==3.*->httpcore==0.9.*->httpx==0.13.3->googletrans) (5.2.0)\n",
      "Requirement already satisfied: hpack<4,>=3.0 in c:\\users\\gomathy\\appdata\\local\\programs\\python\\python39\\lib\\site-packages (from h2==3.*->httpcore==0.9.*->httpx==0.13.3->googletrans) (3.0.0)\n",
      "Note: you may need to restart the kernel to use updated packages.\n"
     ]
    }
   ],
   "source": [
    "pip install speechrecognition pyttsx3 googletrans"
   ]
  },
  {
   "cell_type": "code",
   "execution_count": 16,
   "id": "434f7b92",
   "metadata": {},
   "outputs": [
    {
     "name": "stdout",
     "output_type": "stream",
     "text": [
      "Requirement already satisfied: google_trans_new in c:\\users\\gomathy\\appdata\\local\\programs\\python\\python39\\lib\\site-packages (1.1.9)\n",
      "Note: you may need to restart the kernel to use updated packages.\n"
     ]
    }
   ],
   "source": [
    "pip install google_trans_new"
   ]
  },
  {
   "cell_type": "code",
   "execution_count": 17,
   "id": "eda3eafe",
   "metadata": {},
   "outputs": [],
   "source": [
    "from googletrans import Translator"
   ]
  },
  {
   "cell_type": "code",
   "execution_count": 18,
   "id": "12ca60dc",
   "metadata": {},
   "outputs": [],
   "source": [
    "translator = Translator()"
   ]
  },
  {
   "cell_type": "code",
   "execution_count": 19,
   "id": "81ef35e8",
   "metadata": {},
   "outputs": [
    {
     "name": "stdout",
     "output_type": "stream",
     "text": [
      "Detected(lang=en, confidence=None)\n"
     ]
    }
   ],
   "source": [
    "print(Translator().detect(converted_text))"
   ]
  },
  {
   "cell_type": "code",
   "execution_count": 26,
   "id": "06312d23",
   "metadata": {},
   "outputs": [
    {
     "name": "stdout",
     "output_type": "stream",
     "text": [
      "Bonjour comment vas-tu\n"
     ]
    }
   ],
   "source": [
    "translated_text=Translator().translate(converted_text, src='en', dest='fr')\n",
    "print(translated_text.text)"
   ]
  },
  {
   "cell_type": "code",
   "execution_count": 21,
   "id": "620c22c4",
   "metadata": {},
   "outputs": [],
   "source": [
    "import pyttsx3"
   ]
  },
  {
   "cell_type": "code",
   "execution_count": 22,
   "id": "26cec422",
   "metadata": {},
   "outputs": [],
   "source": [
    "engine = pyttsx3.init()"
   ]
  },
  {
   "cell_type": "code",
   "execution_count": 23,
   "id": "b9cb1cf2",
   "metadata": {},
   "outputs": [
    {
     "name": "stdout",
     "output_type": "stream",
     "text": [
      "Voice:\n",
      " - ID: HKEY_LOCAL_MACHINE\\SOFTWARE\\Microsoft\\Speech\\Voices\\Tokens\\TTS_MS_EN-US_DAVID_11.0\n",
      " - Name: Microsoft David Desktop - English (United States)\n",
      " - Languages: []\n",
      " - Gender: None\n",
      " - Age: None\n",
      "Voice:\n",
      " - ID: HKEY_LOCAL_MACHINE\\SOFTWARE\\Microsoft\\Speech\\Voices\\Tokens\\TTS_MS_EN-US_ZIRA_11.0\n",
      " - Name: Microsoft Zira Desktop - English (United States)\n",
      " - Languages: []\n",
      " - Gender: None\n",
      " - Age: None\n"
     ]
    }
   ],
   "source": [
    "engine = pyttsx3.init() \n",
    "voices = engine.getProperty('voices') \n",
    "for voice in voices: \n",
    "    print(\"Voice:\") \n",
    "    print(\" - ID: %s\" % voice.id) \n",
    "    print(\" - Name: %s\" % voice.name)\n",
    "    print(\" - Languages: %s\" % voice.languages) \n",
    "    print(\" - Gender: %s\" % voice.gender) \n",
    "    print(\" - Age: %s\" % voice.age)"
   ]
  },
  {
   "cell_type": "code",
   "execution_count": 24,
   "id": "6927ed53",
   "metadata": {},
   "outputs": [],
   "source": [
    "fr_voice_id = \"HKEY_LOCAL_MACHINE\\SOFTWARE\\Microsoft\\Speech\\Voices\\Tokens\\TTS_MS_EN-US_DAVID_11.0\" \n",
    "engine.setProperty('voice', fr_voice_id)"
   ]
  },
  {
   "cell_type": "code",
   "execution_count": 27,
   "id": "af0661ec",
   "metadata": {},
   "outputs": [],
   "source": [
    "engine.say(translated_text)\n",
    "engine.runAndWait()"
   ]
  },
  {
   "cell_type": "code",
   "execution_count": 28,
   "id": "0637c034",
   "metadata": {},
   "outputs": [],
   "source": [
    "import speech_recognition as spr\n",
    "from googletrans import Translator\n",
    "from gtts import gTTS\n",
    "import os"
   ]
  },
  {
   "cell_type": "code",
   "execution_count": 29,
   "id": "d0a8e2f8",
   "metadata": {},
   "outputs": [],
   "source": [
    "recog1 = spr.Recognizer()\n",
    "mc = spr.Microphone()"
   ]
  },
  {
   "cell_type": "code",
   "execution_count": 34,
   "id": "1ecf3c3a",
   "metadata": {},
   "outputs": [
    {
     "name": "stdout",
     "output_type": "stream",
     "text": [
      "Speak 'hello' to initiate the Translation !\n",
      "---------\n",
      "Speak a stentence...\n",
      "Phase to be Translated :may I know your name please\n"
     ]
    }
   ],
   "source": [
    "with mc as source:\n",
    "    print(\"Speak 'hello' to initiate the Translation !\")\n",
    "    print(\"---------\")\n",
    "    recog1.adjust_for_ambient_noise(source, duration=0.2)\n",
    "    audio = recog1.listen(source)\n",
    "    MyText = recog1.recognize_google(audio)\n",
    "    MyText = MyText.lower()\n",
    "\n",
    "if 'hello' in MyText:\n",
    "    translator = Translator()\n",
    "    from_lang = 'en'\n",
    "    to_lang = 'hi'\n",
    "     \n",
    "    with mc as source:\n",
    "        print(\"Speak a stentence...\")\n",
    "        recog1.adjust_for_ambient_noise(source, duration=0.2)\n",
    "        audio = recog1.listen(source)\n",
    "        get_sentence = recog1.recognize_google(audio)\n",
    " \n",
    "        try:\n",
    "            print(\"Phase to be Translated :\"+ get_sentence)\n",
    "            text_to_translate = translator.translate(get_sentence,src= from_lang,dest= to_lang)\n",
    "            text = text_to_translate.text\n",
    "            speak = gTTS(text=text, lang=to_lang, slow= False)\n",
    "            speak.save(\"captured_voice.mp3\")    \n",
    "            os.system(\"start captured_voice.mp3\")\n",
    "        except spr.UnknownValueError:\n",
    "            print(\"Unable to Understand the Input\")\n",
    "             \n",
    "        except spr.RequestError as e:\n",
    "            print(\"Unable to provide Required Output\".format(e))"
   ]
  },
  {
   "cell_type": "code",
   "execution_count": null,
   "id": "86e67c14",
   "metadata": {},
   "outputs": [],
   "source": []
  }
 ],
 "metadata": {
  "kernelspec": {
   "display_name": "Python 3 (ipykernel)",
   "language": "python",
   "name": "python3"
  },
  "language_info": {
   "codemirror_mode": {
    "name": "ipython",
    "version": 3
   },
   "file_extension": ".py",
   "mimetype": "text/x-python",
   "name": "python",
   "nbconvert_exporter": "python",
   "pygments_lexer": "ipython3",
   "version": "3.9.2"
  }
 },
 "nbformat": 4,
 "nbformat_minor": 5
}
